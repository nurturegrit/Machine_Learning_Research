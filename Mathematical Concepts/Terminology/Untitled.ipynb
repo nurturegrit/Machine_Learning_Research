{
 "cells": [
  {
   "cell_type": "markdown",
   "id": "04838d82-8aa9-449c-bade-7c409782f84b",
   "metadata": {},
   "source": [
    "# Moments"
   ]
  },
  {
   "cell_type": "markdown",
   "id": "b99611c9-bbb0-41ce-a882-8ab2a206d9c0",
   "metadata": {},
   "source": [
    "## Goals:\n",
    "* To Understand the concept of Moments\n",
    "* Relevance in Machine Learning"
   ]
  },
  {
   "cell_type": "markdown",
   "id": "cfbdbef1-308d-4312-81e8-34ee86efbd96",
   "metadata": {},
   "source": [
    "### Introduction:\n",
    "In probability and statistics, moments are quantities that provide important information about the shape and characteristics of a probability distribution. Moments help describe various aspects of a distribution, such as its center, spread, and shape."
   ]
  },
  {
   "cell_type": "code",
   "execution_count": 2,
   "id": "53cd51b5-992f-4d80-8b5a-48109cfe2a3b",
   "metadata": {},
   "outputs": [
    {
     "ename": "SyntaxError",
     "evalue": "invalid syntax (3045358681.py, line 2)",
     "output_type": "error",
     "traceback": [
      "\u001b[1;36m  Cell \u001b[1;32mIn[2], line 2\u001b[1;36m\u001b[0m\n\u001b[1;33m    * Moments are statistical measures that describe different aspects of the shape of a distribution.\u001b[0m\n\u001b[1;37m              ^\u001b[0m\n\u001b[1;31mSyntaxError\u001b[0m\u001b[1;31m:\u001b[0m invalid syntax\n"
     ]
    }
   ],
   "source": [
    "#### Definition:\n",
    "* Moments are statistical measures that describe different aspects of the shape of a distribution.\n",
    "* They are derived from the expected values of powers of the random variable."
   ]
  },
  {
   "cell_type": "code",
   "execution_count": null,
   "id": "cebc1b5b-8f39-4f68-b55f-22767596d809",
   "metadata": {},
   "outputs": [],
   "source": []
  }
 ],
 "metadata": {
  "kernelspec": {
   "display_name": "Python 3 (ipykernel)",
   "language": "python",
   "name": "python3"
  },
  "language_info": {
   "codemirror_mode": {
    "name": "ipython",
    "version": 3
   },
   "file_extension": ".py",
   "mimetype": "text/x-python",
   "name": "python",
   "nbconvert_exporter": "python",
   "pygments_lexer": "ipython3",
   "version": "3.11.7"
  }
 },
 "nbformat": 4,
 "nbformat_minor": 5
}
