{
 "cells": [
  {
   "cell_type": "markdown",
   "id": "db11f447-e521-4244-95ea-dfc073549b26",
   "metadata": {},
   "source": [
    "## This project will cover:\n",
    "\n",
    "   * Understanding the problem\n",
    "   * Loading and exploring the data\n",
    "   * Preprocessing the data\n",
    "   * Building and training a machine learning model\n",
    "   * Evaluating the model\n",
    "   * Making predictions with the model"
   ]
  },
  {
   "cell_type": "markdown",
   "id": "0418284f-376b-4eed-bddb-66a44cd93f05",
   "metadata": {},
   "source": [
    "## Understanding the Problem\n",
    "\n",
    "The Iris dataset is a classic dataset in machine learning and statistics, consisting of measurements of various features of three different species of Iris flowers (Setosa, Versicolour, and Virginica). The goal is to classify these species based on the given features.\n",
    "Dataset Features\n",
    "\n",
    "    Sepal length (in cm)\n",
    "    Sepal width (in cm)\n",
    "    Petal length (in cm)\n",
    "    Petal width (in cm)\n",
    "    Species (target variable)"
   ]
  },
  {
   "cell_type": "markdown",
   "id": "7ca2d818-9aba-4508-803c-7a3941ed28ee",
   "metadata": {},
   "source": [
    "    Pandas and NumPy for data manipulation\n",
    "    Scikit-learn for building the machine learning model\n",
    "    Matplotlib or Seaborn for data visualization (optional but helpful)"
   ]
  },
  {
   "cell_type": "markdown",
   "id": "9da78ffc-00fb-4cb5-8a88-33c304081c66",
   "metadata": {},
   "source": [
    "First, let's load the Iris dataset and take a look at the data."
   ]
  },
  {
   "cell_type": "code",
   "execution_count": 1,
   "id": "eef96465-7d21-4c94-a1aa-9563c78d2cc9",
   "metadata": {},
   "outputs": [],
   "source": [
    "import pandas as pd\n",
    "import numpy as np\n",
    "import seaborn as sns\n",
    "import matplotlib.pyplot as plt"
   ]
  },
  {
   "cell_type": "markdown",
   "id": "a3fe8d0c-78c7-4a2e-ada1-393e6bfcc6d4",
   "metadata": {},
   "source": [
    "from sklearn.datasets import load_iris\n",
    "\n",
    "# Load the Iris dataset\n",
    "iris = load_iris()\n",
    "\n",
    "# Create a DataFrame\n",
    "df = pd.DataFrame(data=iris.data, columns=iris.feature_names)\n",
    "df['species'] = iris.target\n",
    "\n",
    "# Display the first few rows of the DataFrame\n",
    "print(df.head())\n",
    "\n",
    "# Display basic statistics\n",
    "print(df.describe())\n",
    "\n",
    "Step 3: Visualizing the Data\n",
    "\n",
    "(Optional) Let's visualize the data to better understand it. This can be done using Matplotlib or Seaborn.\n",
    "\n",
    "import seaborn as sns\n",
    "import matplotlib.pyplot as plt\n",
    "\n",
    "# Pairplot to visualize relationships between features\n",
    "sns.pairplot(df, hue='species')\n",
    "plt.show()\n",
    "\n",
    "Step 4: Preprocessing the Data\n",
    "\n",
    "Before building the machine learning model, we'll split the data into features (X) and labels (y), and then into training and testing sets.\n",
    "\n",
    "from sklearn.model_selection import train_test_split\n",
    "\n",
    "# Features and labels\n",
    "X = df.drop('species', axis=1)\n",
    "y = df['species']\n",
    "\n",
    "# Split the data into training and testing sets\n",
    "X_train, X_test, y_train, y_test = train_test_split(X, y, test_size=0.3, random_state=42)\n",
    "\n",
    "Step 5: Building and Training the Model\n",
    "\n",
    "We'll use a simple machine learning algorithm called K-Nearest Neighbors (KNN) for this task.\n",
    "\n",
    "from sklearn.neighbors import KNeighborsClassifier\n",
    "\n",
    "# Create the model\n",
    "knn = KNeighborsClassifier(n_neighbors=3)\n",
    "\n",
    "# Train the model\n",
    "knn.fit(X_train, y_train)\n",
    "\n",
    "Step 6: Evaluating the Model\n",
    "\n",
    "Now, we'll evaluate the model's performance using the test data.\n",
    "\n",
    "from sklearn.metrics import accuracy_score, classification_report\n",
    "\n",
    "# Make predictions\n",
    "y_pred = knn.predict(X_test)\n",
    "\n",
    "# Evaluate accuracy\n",
    "accuracy = accuracy_score(y_test, y_pred)\n",
    "print(f\"Accuracy: {accuracy}\")\n",
    "\n",
    "# Detailed classification report\n",
    "print(classification_report(y_test, y_pred))\n",
    "\n",
    "Step 7: Making Predictions\n",
    "\n",
    "Finally, let's use our trained model to make predictions on new data.\n",
    "\n",
    "# Example new data (can be changed to test)\n",
    "new_data = [[5.1, 3.5, 1.4, 0.2]]\n",
    "\n",
    "# Make a prediction\n",
    "prediction = knn.predict(new_data)\n",
    "print(f\"Predicted species: {iris.target_names[prediction][0]}\")\n",
    "\n",
    "Conclusion\n",
    "\n",
    "That's it! You've just built a basic machine learning model for classifying Iris flowers. From here, you can explore further by trying different algorithms, tuning hyperparameters,"
   ]
  },
  {
   "cell_type": "markdown",
   "id": "cf5bfeda-03ac-44d8-88ba-2104d2cbc1c6",
   "metadata": {},
   "source": []
  },
  {
   "cell_type": "code",
   "execution_count": null,
   "id": "b4969480-fa54-42b7-80c8-f70b94bca01d",
   "metadata": {},
   "outputs": [],
   "source": []
  }
 ],
 "metadata": {
  "kernelspec": {
   "display_name": "Python 3 (ipykernel)",
   "language": "python",
   "name": "python3"
  },
  "language_info": {
   "codemirror_mode": {
    "name": "ipython",
    "version": 3
   },
   "file_extension": ".py",
   "mimetype": "text/x-python",
   "name": "python",
   "nbconvert_exporter": "python",
   "pygments_lexer": "ipython3",
   "version": "3.12.5"
  }
 },
 "nbformat": 4,
 "nbformat_minor": 5
}
