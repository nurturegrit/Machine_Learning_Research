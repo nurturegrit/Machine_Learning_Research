{
 "cells": [
  {
   "cell_type": "code",
   "execution_count": 8,
   "id": "fde308e0-815c-4551-b9fc-7b4072747fab",
   "metadata": {},
   "outputs": [],
   "source": [
    "import numpy as np"
   ]
  },
  {
   "cell_type": "code",
   "execution_count": null,
   "id": "07c305d6-d996-48ab-8fe8-1e16e4b10a61",
   "metadata": {},
   "outputs": [],
   "source": [
    "# We will be making three functions\n",
    "def make_predictions(b_vector, X):\n",
    "    predictions = np.matmul(b_vector.T, X)\n",
    "    return predictions"
   ]
  },
  {
   "cell_type": "code",
   "execution_count": 4,
   "id": "b3b12548-b4a7-429f-912a-9a29c50d81a0",
   "metadata": {},
   "outputs": [],
   "source": [
    "# Mean Square Error\n",
    "def mse(predictions, y):\n",
    "    sq_errors = (predictions - y) ** 2\n",
    "    mean_sq_error = np.sum(sq_error)/(2*len(y))\n",
    "    return mean_sq_error"
   ]
  },
  {
   "cell_type": "code",
   "execution_count": 7,
   "id": "73151fc7-4adf-443b-bfbc-7913d430a688",
   "metadata": {},
   "outputs": [],
   "source": [
    "def gradient_desecent_algorithm(X, Y, steps, learning_rate):\n",
    "    b_vector = np.zeros(X.shape[0])\n",
    "    cost = []\n",
    "    for i in range(steps):\n",
    "        predictions = make_predictions(b_vector, X)\n",
    "        errors = predictions - actual\n",
    "        cost.append(mse(predictions, X))\n",
    "        gradients = np.matmul(X, errors)*(1/len(errors))\n",
    "        b_vector = b_vector - (learning_rate * gradients)\n",
    "    errors = predictions - actual\n",
    "    return params, cost"
   ]
  },
  {
   "cell_type": "code",
   "execution_count": null,
   "id": "0f7de2af-bbe0-49f8-a272-9c4406773c5c",
   "metadata": {},
   "outputs": [],
   "source": []
  }
 ],
 "metadata": {
  "kernelspec": {
   "display_name": "Python 3 (ipykernel)",
   "language": "python",
   "name": "python3"
  },
  "language_info": {
   "codemirror_mode": {
    "name": "ipython",
    "version": 3
   },
   "file_extension": ".py",
   "mimetype": "text/x-python",
   "name": "python",
   "nbconvert_exporter": "python",
   "pygments_lexer": "ipython3",
   "version": "3.11.7"
  }
 },
 "nbformat": 4,
 "nbformat_minor": 5
}
